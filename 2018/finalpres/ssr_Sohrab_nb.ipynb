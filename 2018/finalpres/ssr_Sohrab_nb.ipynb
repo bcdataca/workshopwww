{
 "cells": [
  {
   "cell_type": "code",
   "execution_count": 1,
   "metadata": {
    "slideshow": {
     "slide_type": "skip"
    }
   },
   "outputs": [
    {
     "data": {
      "text/html": [
       "<script>\n",
       "code_show=true; \n",
       "function code_toggle() {\n",
       "if (code_show){\n",
       "$('div.input').hide();\n",
       "} else {\n",
       "$('div.input').show();\n",
       "}\n",
       "code_show = !code_show\n",
       "} \n",
       "$( document ).ready(code_toggle);\n",
       "</script>\n",
       "The raw code for this IPython notebook is by default hidden for easier reading.\n",
       "To toggle on/off the raw code, click <a href=\"javascript:code_toggle()\">here</a>."
      ],
      "text/plain": [
       "<IPython.core.display.HTML object>"
      ]
     },
     "execution_count": 1,
     "metadata": {},
     "output_type": "execute_result"
    }
   ],
   "source": [
    "from IPython.display import HTML\n",
    "\n",
    "HTML('''<script>\n",
    "code_show=true; \n",
    "function code_toggle() {\n",
    "if (code_show){\n",
    "$('div.input').hide();\n",
    "} else {\n",
    "$('div.input').show();\n",
    "}\n",
    "code_show = !code_show\n",
    "} \n",
    "$( document ).ready(code_toggle);\n",
    "</script>\n",
    "The raw code for this IPython notebook is by default hidden for easier reading.\n",
    "To toggle on/off the raw code, click <a href=\"javascript:code_toggle()\">here</a>.''')"
   ]
  },
  {
   "cell_type": "code",
   "execution_count": 1,
   "metadata": {
    "slideshow": {
     "slide_type": "skip"
    }
   },
   "outputs": [
    {
     "data": {
      "text/plain": [
       "{u'height': 768, u'scroll': True, u'width': 1024}"
      ]
     },
     "execution_count": 1,
     "metadata": {},
     "output_type": "execute_result"
    }
   ],
   "source": [
    "from notebook.services.config import ConfigManager\n",
    "cm = ConfigManager()\n",
    "cm.update('livereveal', {\n",
    "        'width': 1024,\n",
    "        'height': 768,\n",
    "        'scroll': True,\n",
    "})"
   ]
  },
  {
   "cell_type": "markdown",
   "metadata": {
    "slideshow": {
     "slide_type": "slide"
    }
   },
   "source": [
    "<img src=\"ssr.png\" alt=\"wali_476\" width=\"400px\"/>"
   ]
  },
  {
   "cell_type": "markdown",
   "metadata": {},
   "source": [
    "# SSR Mining\n",
    "\n",
    "### Team Members: Cody, Howell, Saeed, Shams, Nicholas, Michelle, Sunny, Mohammed, Sohrab\n",
    "\n",
    "### Mentor: Junbo, Vien\n",
    "\n",
    "# Problem Objective: Predicting Equipment Failure \n",
    "\n",
    "# Overview of Data:\n",
    " ## ~50 GB\n",
    " ## 20+ files\n",
    " \n",
    " \n"
   ]
  },
  {
   "cell_type": "markdown",
   "metadata": {
    "slideshow": {
     "slide_type": "slide"
    }
   },
   "source": [
    "<img src=\"intro_ssr.png\" alt=\"wali_476\" width=\"900px\"/>"
   ]
  },
  {
   "cell_type": "markdown",
   "metadata": {
    "slideshow": {
     "slide_type": "slide"
    }
   },
   "source": [
    "<img src=\"data_ssr.png\" alt=\"wali_476\" width=\"900px\"/>"
   ]
  },
  {
   "cell_type": "markdown",
   "metadata": {
    "slideshow": {
     "slide_type": "slide"
    }
   },
   "source": [
    "<img src=\"data_net_ssr.png\" alt=\"wali_476\" width=\"700px\"/>"
   ]
  },
  {
   "cell_type": "markdown",
   "metadata": {
    "slideshow": {
     "slide_type": "slide"
    }
   },
   "source": [
    "# General exploration over all trucks"
   ]
  },
  {
   "cell_type": "code",
   "execution_count": 4,
   "metadata": {
    "slideshow": {
     "slide_type": "skip"
    }
   },
   "outputs": [],
   "source": [
    "import pandas as pd\n",
    "import matplotlib.pyplot as plt\n",
    "import numpy as np"
   ]
  },
  {
   "cell_type": "markdown",
   "metadata": {
    "slideshow": {
     "slide_type": "slide"
    }
   },
   "source": [
    "# Exploration of Best Truck\n",
    "\n",
    "## The following shows the number of critical alarms received by each truck\n",
    "## It is obtained by looking at the level 1 entries in Notification Details Report"
   ]
  },
  {
   "cell_type": "code",
   "execution_count": 5,
   "metadata": {
    "slideshow": {
     "slide_type": "subslide"
    }
   },
   "outputs": [
    {
     "data": {
      "image/png": "[encoded data removed]",
      "text/plain": [
       "<matplotlib.figure.Figure at 0x9e62eb8>"
      ]
     },
     "metadata": {},
     "output_type": "display_data"
    }
   ],
   "source": [
    "NDR = pd.read_csv('C:/Users/codyg/Desktop/BCData2018/Maintenance/NotificationDetailsReport.csv')\n",
    "equipValues = NDR['Level'] # filtering Level\n",
    "equipName = NDR['EquipmentName'] # filtering Truck Names\n",
    "myDict = set(equipName) # finding the name of Trucks\n",
    "myDictList = list(myDict) # set to list\n",
    "Truck = [0]*len(myDictList) # Truck is a list of number 1 alarms\n",
    "for i in range (len(equipValues)):\n",
    "    if equipValues[i] == 1:\n",
    "        current_Truck = myDictList.index(equipName[i])\n",
    "        Truck[current_Truck] += 1\n",
    "\n",
    "minCritical = Truck.index(min(Truck))\n",
    "barlist = plt.bar(myDictList, Truck)\n",
    "barlist[minCritical].set_color('r')\n",
    "plt.title('Critical Alarms for each Truck')\n",
    "plt.ylabel('# of times')\n",
    "plt.xlabel('Truck Name')\n",
    "\n",
    "del NDR"
   ]
  },
  {
   "cell_type": "markdown",
   "metadata": {
    "slideshow": {
     "slide_type": "skip"
    }
   },
   "source": [
    "## seems 478 does a great job"
   ]
  },
  {
   "cell_type": "markdown",
   "metadata": {
    "slideshow": {
     "slide_type": "slide"
    }
   },
   "source": [
    "## Truck Loads"
   ]
  },
  {
   "cell_type": "code",
   "execution_count": 3,
   "metadata": {
    "slideshow": {
     "slide_type": "subslide"
    }
   },
   "outputs": [
    {
     "data": {
      "image/png": "[encoded data removed]",
      "text/plain": [
       "<matplotlib.figure.Figure at 0x7f085a06d668>"
      ]
     },
     "metadata": {},
     "output_type": "display_data"
    }
   ],
   "source": [
    "TPrS = pd.read_csv('C:/Users/codyg/Desktop/BCData2018//Production/TruckProductionSummary.csv')\n",
    "equipNo = TPrS['EquipmentNumber']\n",
    "Dict = set(equipNo)\n",
    "DictList = list(Dict)\n",
    "loadOfTrucks = TPrS['LoadTons']\n",
    "TotalLoad = [0] * len(DictList)\n",
    "for i in range (len(TotalLoad)):\n",
    "    current_Truck = DictList.index(equipNo[i])\n",
    "    TotalLoad[current_Truck] = TotalLoad[current_Truck] + loadOfTrucks[i]\n",
    "    \n",
    "minCritical = Truck.index(min(Truck))\n",
    "barlist = plt.bar(DictList, TotalLoad)\n",
    "barlist[minCritical].set_color('r')\n",
    "plt.title('Total Load of each Truck (Tons)')\n",
    "plt.ylabel('Load(tons)')\n",
    "plt.xlabel('Truck Name')\n",
    "\n",
    "del TPrS"
   ]
  },
  {
   "cell_type": "markdown",
   "metadata": {
    "slideshow": {
     "slide_type": "skip"
    }
   },
   "source": [
    "## Seems to be promising, let's look at some other data"
   ]
  },
  {
   "cell_type": "markdown",
   "metadata": {
    "slideshow": {
     "slide_type": "slide"
    }
   },
   "source": [
    "## Number of breakdowns"
   ]
  },
  {
   "cell_type": "code",
   "execution_count": 4,
   "metadata": {
    "slideshow": {
     "slide_type": "subslide"
    }
   },
   "outputs": [
    {
     "data": {
      "image/png": "[encoded data removed]",
      "text/plain": [
       "<matplotlib.figure.Figure at 0x7f0859ff47b8>"
      ]
     },
     "metadata": {},
     "output_type": "display_data"
    }
   ],
   "source": [
    "WO = pd.read_csv('C:/Users/codyg/Desktop/BCData2018/Maintenance/WorkOrders.csv')\n",
    "\n",
    "probType = WO['PROBTYPE']\n",
    "\n",
    "compID = WO['COMPID']\n",
    "\n",
    "myDict = set(compID)\n",
    "\n",
    "myDictList = list(myDict)\n",
    "\n",
    "breakdownsNo = [0]*len(myDictList) # breakdownsNo is a list of number of breakdowns\n",
    "\n",
    "for i in range (len(WO)):\n",
    "    if probType[i] == 'Breakdown':\n",
    "        current_Truck = myDictList.index(compID[i])\n",
    "        breakdownsNo[current_Truck] += 1\n",
    "        \n",
    "maxBreakdowns = breakdownsNo.index(max(breakdownsNo))\n",
    "        \n",
    "barlist = plt.bar(myDictList, breakdownsNo)\n",
    "barlist[maxBreakdowns].set_color('r')\n",
    "plt.title('# of Breakdowns for each Truck')\n",
    "plt.ylabel('# of times')\n",
    "plt.xlabel('Truck Name')\n",
    "\n",
    "del WO"
   ]
  },
  {
   "cell_type": "markdown",
   "metadata": {
    "slideshow": {
     "slide_type": "skip"
    }
   },
   "source": [
    "## Not good! Let's look at number of accidents"
   ]
  },
  {
   "cell_type": "markdown",
   "metadata": {
    "slideshow": {
     "slide_type": "slide"
    }
   },
   "source": [
    "## Number of Accidents"
   ]
  },
  {
   "cell_type": "code",
   "execution_count": 5,
   "metadata": {
    "slideshow": {
     "slide_type": "subslide"
    }
   },
   "outputs": [
    {
     "data": {
      "text/plain": [
       "Text(0.5,0,'Truck Name')"
      ]
     },
     "execution_count": 5,
     "metadata": {},
     "output_type": "execute_result"
    },
    {
     "data": {
      "image/png": "[encoded data removed]",
      "text/plain": [
       "<matplotlib.figure.Figure at 0x7f0859ff4668>"
      ]
     },
     "metadata": {},
     "output_type": "display_data"
    }
   ],
   "source": [
    "WO = pd.read_csv('C:/Users/codyg/Desktop/BCData2018/Maintenance/WorkOrders.csv')\n",
    "\n",
    "probType = WO['PROBTYPE']\n",
    "\n",
    "compID = WO['COMPID']\n",
    "\n",
    "AccidentDamageNo = [0]*len(myDictList)\n",
    "\n",
    "myDict = set(compID)\n",
    "\n",
    "myDictList = list(myDict)\n",
    "for i in range (len(WO)):\n",
    "    if probType[i] == 'Accident Damage':\n",
    "        current_Truck = myDictList.index(compID[i])\n",
    "        AccidentDamageNo[current_Truck] += 1\n",
    "        \n",
    "maxAccidentDamage = AccidentDamageNo.index(max(AccidentDamageNo))\n",
    "        \n",
    "barlist = plt.bar(myDictList, AccidentDamageNo)\n",
    "barlist[maxAccidentDamage].set_color('r')\n",
    "plt.title('# of Accident Damages for each Truck')\n",
    "plt.ylabel('# of times')\n",
    "plt.xlabel('Truck Name')"
   ]
  },
  {
   "cell_type": "markdown",
   "metadata": {
    "slideshow": {
     "slide_type": "skip"
    }
   },
   "source": [
    "## Not good either!"
   ]
  },
  {
   "cell_type": "markdown",
   "metadata": {
    "slideshow": {
     "slide_type": "slide"
    }
   },
   "source": [
    "## Possible reasons:\n",
    "\n",
    "## 1. Error in data\n",
    "## 2. Some components provide multiple alarms in other trucks,\n",
    "## hence more alarms in other trucks\n",
    "## 3. Sometimes, truck drivers do not notice the alarms, which partly explains\n",
    "## the reason behind huge numer of accidents and breakdowns"
   ]
  },
  {
   "cell_type": "markdown",
   "metadata": {
    "slideshow": {
     "slide_type": "slide"
    }
   },
   "source": [
    "## Also:"
   ]
  },
  {
   "cell_type": "code",
   "execution_count": 11,
   "metadata": {
    "slideshow": {
     "slide_type": "subslide"
    }
   },
   "outputs": [
    {
     "data": {
      "image/png": "[encoded data removed]",
      "text/plain": [
       "<matplotlib.figure.Figure at 0x7f08d8a16710>"
      ]
     },
     "metadata": {},
     "output_type": "display_data"
    }
   ],
   "source": [
    "NDR = pd.read_csv('C:/Users/codyg/Desktop/BCData2018/Maintenance/NotificationDetailsReport.csv')\n",
    "\n",
    "equipValues = NDR['Level'] # filtering Level\n",
    "\n",
    "equipName = NDR['EquipmentName'] # filtering Truck Names\n",
    "\n",
    "myDict = set(equipName) # finding the name of Trucks\n",
    "\n",
    "myDictList = list(myDict) # set to list\n",
    "        \n",
    "Alarm2 = [0]*len(myDictList) # Alarm2 is a list of number 2 alarms\n",
    "for i in range (len(equipValues)):\n",
    "    if equipValues[i] == 2:\n",
    "        current_Truck = myDictList.index(equipName[i])\n",
    "        Alarm2[current_Truck] += 1\n",
    "        \n",
    "maxAlarm2 = Alarm2.index(max(Alarm2))\n",
    "\n",
    "barlist = plt.bar(myDictList, Alarm2)\n",
    "barlist[maxAlarm2].set_color('r')\n",
    "plt.title('Level 2 Alarms for each Truck')\n",
    "plt.ylabel('# of times')\n",
    "plt.xlabel('Truck Name')\n",
    "\n",
    "\n",
    "del NDR"
   ]
  },
  {
   "cell_type": "markdown",
   "metadata": {
    "slideshow": {
     "slide_type": "slide"
    }
   },
   "source": [
    "## To Recap"
   ]
  },
  {
   "cell_type": "code",
   "execution_count": 13,
   "metadata": {
    "slideshow": {
     "slide_type": "subslide"
    }
   },
   "outputs": [
    {
     "data": {
      "image/png": "[encoded data removed]",
      "text/plain": [
       "<matplotlib.figure.Figure at 0x7f0859fb5390>"
      ]
     },
     "metadata": {},
     "output_type": "display_data"
    },
    {
     "data": {
      "image/png": "[encoded data removed]",
      "text/plain": [
       "<matplotlib.figure.Figure at 0x7f0859f779b0>"
      ]
     },
     "metadata": {},
     "output_type": "display_data"
    }
   ],
   "source": [
    "NDR = pd.read_csv('C:/Users/codyg/Desktop/BCData2018/Maintenance/NotificationDetailsReport.csv')\n",
    "\n",
    "equipValues = NDR['Level'] # filtering Level\n",
    "\n",
    "equipName = NDR['EquipmentName'] # filtering Truck Names\n",
    "\n",
    "myDict = set(equipName) # finding the name of Trucks\n",
    "\n",
    "myDictList = list(myDict) # set to list\n",
    "\n",
    "Truck = [0]*len(myDictList) # Truck is a list of number 1 alarms\n",
    "\n",
    "for i in range (len(equipValues)):\n",
    "    if equipValues[i] == 1:\n",
    "        current_Truck = myDictList.index(equipName[i])\n",
    "        Truck[current_Truck] += 1\n",
    "        \n",
    "Alarm2 = [0]*len(myDictList) # Alarm2 is a list of number 2 alarms\n",
    "for i in range (len(equipValues)):\n",
    "    if equipValues[i] == 2:\n",
    "        current_Truck = myDictList.index(equipName[i])\n",
    "        Alarm2[current_Truck] += 1\n",
    "        \n",
    "minCritical = Truck.index(min(Truck))\n",
    "maxAlarm2 = Alarm2.index(max(Alarm2))\n",
    "        \n",
    "plt.figure(1)\n",
    "barlist = plt.bar(myDictList, Truck)\n",
    "barlist[minCritical].set_color('r')\n",
    "plt.title('Critical Alarms for each Truck')\n",
    "plt.ylabel('# of times')\n",
    "plt.xlabel('Truck Name')\n",
    "\n",
    "plt.figure(2)\n",
    "barlist = plt.bar(myDictList, Alarm2)\n",
    "barlist[maxAlarm2].set_color('r')\n",
    "plt.title('Level 2 Alarms for each Truck')\n",
    "plt.ylabel('# of times')\n",
    "plt.xlabel('Truck Name')\n",
    "\n",
    "\n",
    "del NDR"
   ]
  },
  {
   "cell_type": "markdown",
   "metadata": {
    "slideshow": {
     "slide_type": "slide"
    }
   },
   "source": [
    "## Conclusion:\n",
    "\n",
    "## Truck 478 gives us something to think about. It is either the best truck or\n",
    "## the worst truck depending on how we look at the data. It may also indicate\n",
    "## that data might not reliable and we need more accurate data to make a \n",
    "## conclusive observation."
   ]
  },
  {
   "cell_type": "markdown",
   "metadata": {
    "slideshow": {
     "slide_type": "slide"
    }
   },
   "source": [
    "# Pressure and Temperature time series\n",
    "<img src=\"wali_476.png\" alt=\"wali_476\" width=\"1000px\"/>"
   ]
  },
  {
   "cell_type": "markdown",
   "metadata": {
    "slideshow": {
     "slide_type": "slide"
    }
   },
   "source": [
    "<img src=\"wali_477.png\" alt=\"wali_476\" width=\"1100px\"/>"
   ]
  },
  {
   "cell_type": "markdown",
   "metadata": {
    "slideshow": {
     "slide_type": "slide"
    }
   },
   "source": [
    "<img src=\"wali_480.png\" alt=\"wali_476\" width=\"1100px\"/>"
   ]
  }
 ],
 "metadata": {
  "celltoolbar": "Slideshow",
  "kernelspec": {
   "display_name": "Python 2",
   "language": "python",
   "name": "python2"
  },
  "language_info": {
   "codemirror_mode": {
    "name": "ipython",
    "version": 2
   },
   "file_extension": ".py",
   "mimetype": "text/x-python",
   "name": "python",
   "nbconvert_exporter": "python",
   "pygments_lexer": "ipython2",
   "version": "2.7.14"
  }
 },
 "nbformat": 4,
 "nbformat_minor": 2
}
